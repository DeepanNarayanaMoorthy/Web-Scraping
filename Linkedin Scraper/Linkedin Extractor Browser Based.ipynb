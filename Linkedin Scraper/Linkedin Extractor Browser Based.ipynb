{
 "cells": [
  {
   "cell_type": "code",
   "execution_count": null,
   "id": "722be73a-43df-421b-a9cf-d6f72f4ffca4",
   "metadata": {},
   "outputs": [],
   "source": [
    "# chrome.exe -remote-debugging-port=9014 --user-data-dir=\"C:\\Users\\deepa\\Desktop\\LinkedinExtract\\ChromeData\"\n",
    "import os\n",
    "os.system('cmd /k chrome.exe -remote-debugging-port=9014 --user-data-dir=\"C:\\Users\\deepa\\Desktop\\LinkedinExtract\\ChromeData\"')"
   ]
  },
  {
   "cell_type": "code",
   "execution_count": null,
   "id": "204fdc8d-3c54-49d0-a823-d0234797b5f8",
   "metadata": {},
   "outputs": [],
   "source": [
    "from selenium.common.exceptions import NoSuchElementException\n",
    "from selenium.common.exceptions import StaleElementReferenceException\n",
    "from selenium.webdriver.common.by import By\n",
    "from selenium.webdriver.support.ui import WebDriverWait\n",
    "from selenium import webdriver\n",
    "from selenium.webdriver.chrome.options import Options\n",
    "from time import sleep\n",
    "from selenium.webdriver.support.ui import WebDriverWait\n",
    "from selenium.webdriver.common.by import By\n",
    "from selenium.webdriver.support import expected_conditions as EC\n",
    "import pandas as pd\n"
   ]
  },
  {
   "cell_type": "code",
   "execution_count": null,
   "id": "5a6355f1-c127-4dc1-a320-cfa9799baf6a",
   "metadata": {},
   "outputs": [],
   "source": [
    "remote_debugging_port = 9014\n",
    "\n",
    "\n",
    "options = Options()\n",
    "options.headless = False\n",
    "options.add_experimental_option('debuggerAddress', 'localhost:9014')\n",
    "\n",
    "url=\"https://www.linkedin.com/jobs/search/?currentJobId=3628684746&distance=25&f_TPR=r86400&geoId=102713980&keywords=software&refresh=true&start=25\"\n",
    "# url=\"https://www.linkedin.com/login\"\n",
    "\n",
    "driver = webdriver.Chrome(\"chromedriver.exe\", options=options)\n",
    "driver.execute_cdp_cmd(\"Network.enable\", {})\n",
    "\n",
    "driver.get(url)\n",
    "\n",
    "# sleep(2)\n",
    "# driver.find_element_by_name('session_key').send_keys(\"USERNAME\")\n",
    "# sleep(1)\n",
    "# driver.find_element_by_name('session_password').send_keys(\"PASSWORD\")\n",
    "\n",
    "element = WebDriverWait(driver, 20).until(\n",
    "EC.element_to_be_clickable((By.XPATH, '/html/body/div[1]/header/nav/div/a[2]')))\n",
    "\n",
    "element.click();\n",
    "\n",
    "wait = WebDriverWait(driver, 10)\n",
    "wait.until(EC.element_to_be_clickable((By.NAME, \"session_key\"))).send_keys('USERNAME')\n",
    "wait = WebDriverWait(driver, 10)\n",
    "wait.until(EC.element_to_be_clickable((By.NAME, \"session_password\"))).send_keys('PASSOWRD')\n",
    "\n",
    "element = WebDriverWait(driver, 20).until(\n",
    "EC.element_to_be_clickable((By.XPATH, '//*[@id=\"organic-div\"]/form/div[3]/button')))\n",
    "\n",
    "element.click();\n",
    "\n",
    "\n",
    "# Get all network request data\n",
    "response_bodies = []\n",
    "for entry in driver.execute_cdp_cmd(\"Network.getAllResponseBody\", {}).get(\"base64Encoded\", []):\n",
    "    response_bodies.append(entry.get(\"body\", \"\"))\n",
    "\n",
    "# Process the response bodies (JSON data)\n",
    "for response_body in response_bodies:\n",
    "    print(response_body)\n",
    "# open_tabs = driver.window_handles\n",
    "\n",
    "# # Print the URLs of the open tabs\n",
    "# for tab in open_tabs:\n",
    "#     driver.switch_to.window(tab)\n",
    "#     print(driver.current_url)"
   ]
  },
  {
   "cell_type": "code",
   "execution_count": null,
   "id": "424f6a21-c361-40f8-858b-e5c91b383b0f",
   "metadata": {},
   "outputs": [],
   "source": [
    "# name \n",
    "# company \n",
    "# location \n",
    "# nature \n",
    "# time_posted \n",
    "# position_level \n",
    "# job_description \n",
    "# skills_identified\n",
    "# job_link"
   ]
  },
  {
   "cell_type": "code",
   "execution_count": null,
   "id": "98820918-2902-4f1e-91dd-147722ed72ea",
   "metadata": {},
   "outputs": [],
   "source": [
    "def extract_text(element):\n",
    "    text = element.text.strip()\n",
    "    for sub_element in element.find_elements_by_xpath(\".//*\"):\n",
    "        text += \" \" + sub_element.text.strip()\n",
    "    return text\n"
   ]
  },
  {
   "cell_type": "code",
   "execution_count": null,
   "id": "dc05567f-a24c-48f6-ad85-31e90b3edce5",
   "metadata": {},
   "outputs": [],
   "source": []
  },
  {
   "cell_type": "code",
   "execution_count": null,
   "id": "3b1f758f-f10f-4783-aa14-1b9d7d442529",
   "metadata": {},
   "outputs": [],
   "source": [
    "ignored_exceptions=(NoSuchElementException,StaleElementReferenceException,)\n",
    "\n",
    "finallist=[]\n",
    "for i in range(1,26):\n",
    "    \n",
    "    jobtag=f'/html/body/div[5]/div[3]/div[4]/div/div/main/div/div[1]/div/ul/li[{i}]'\n",
    "    element = WebDriverWait(driver, 10).until(\n",
    "    EC.element_to_be_clickable((By.XPATH, jobtag)))\n",
    "\n",
    "    element.click();\n",
    "    \n",
    "    # WebDriverWait(driver, 10).until(EC.presence_of_element_located((By.CLASS_NAME, \"jobs-company__box\")))\n",
    "\n",
    "\n",
    "    job_data=dict()\n",
    "    \n",
    "    element = WebDriverWait(driver, 10,ignored_exceptions=ignored_exceptions).until(\n",
    "        EC.presence_of_element_located((By.XPATH, '/html/body/div[5]/div[3]/div[4]/div/div/main/div/div[2]/div/div[2]/div[1]/div/div[1]/div/div[1]/div[1]/div[1]/a/h2')))\n",
    "    job_data['position']=element.text\n",
    "    \n",
    "    element = WebDriverWait(driver, 10,ignored_exceptions=ignored_exceptions).until(\n",
    "        EC.presence_of_element_located((By.CLASS_NAME, 'jobs-unified-top-card__company-name')))\n",
    "    job_data['company']=extract_text(element)\n",
    "\n",
    "    element = WebDriverWait(driver, 10,ignored_exceptions=ignored_exceptions).until(\n",
    "        EC.presence_of_element_located((By.XPATH, '//*[@id=\"main\"]/div/div[2]/div/div[2]/div[1]/div/div[1]/div/div[1]/div[1]/div[2]/span[1]/span[2]')))\n",
    "    job_data['location']=extract_text(element)\n",
    "    \n",
    "    element = WebDriverWait(driver, 10,ignored_exceptions=ignored_exceptions).until(\n",
    "        # EC.presence_of_element_located((By.XPATH, '/html/body/div[5]/div[3]/div[4]/div/div/main/div/div[2]/div/div[2]/div[1]/div/div[1]/div/div[1]/div[1]/div[2]/span[1]/span[3]')))\n",
    "        EC.presence_of_element_located((By.CLASS_NAME, 'jobs-unified-top-card__workplace-type')))\n",
    "\n",
    "    job_data['nature']=extract_text(element)\n",
    "\n",
    "    element = WebDriverWait(driver, 10,ignored_exceptions=ignored_exceptions).until(\n",
    "        EC.presence_of_element_located((By.XPATH, '//*[@id=\"main\"]/div/div[2]/div/div[2]/div[1]/div/div[1]/div/div[1]/div[1]/div[2]/span[2]/span[1]')))\n",
    "    job_data['time_posted']=extract_text(element)\n",
    "    \n",
    "    element = WebDriverWait(driver, 10,ignored_exceptions=ignored_exceptions).until(\n",
    "        EC.presence_of_element_located((By.XPATH, '//*[@id=\"main\"]/div/div[2]/div/div[2]/div[1]/div/div[1]/div/div[1]/div[1]/div[3]/ul/li[1]/span')))\n",
    "    job_data['position_level']=extract_text(element)\n",
    "    \n",
    "    job_data['description']=None\n",
    "    while(job_data['description'] is None):\n",
    "        try:\n",
    "            element = WebDriverWait(driver, 10,ignored_exceptions=ignored_exceptions).until(\n",
    "                EC.presence_of_element_located((By.XPATH, '//*[@id=\"job-details\"]')))\n",
    "            job_data['description']=extract_text(element)\n",
    "        except:\n",
    "            pass\n",
    "        \n",
    "    # job_data['skills_identified']=None\n",
    "    # while(job_data['skills_identified'] is None):\n",
    "    #     try:\n",
    "    #         element = WebDriverWait(driver, 10,ignored_exceptions=ignored_exceptions).until(\n",
    "    #             EC.presence_of_element_located((By.CLASS_NAME, 'pt5')))\n",
    "    #         job_data['skills_identified']=extract_text(element)\n",
    "    #     except:\n",
    "    #         pass\n",
    "\n",
    "    job_data['job_link']=driver.current_url\n",
    "    \n",
    "    finallist.append(job_data)\n",
    "    \n",
    "\n",
    "\n",
    "   \n",
    "    "
   ]
  },
  {
   "cell_type": "code",
   "execution_count": null,
   "id": "d4e92508-d870-4564-88d9-5574b97e8bb7",
   "metadata": {},
   "outputs": [],
   "source": [
    "df = pd.DataFrame(finallist)\n",
    "df.to_csv(\"asd.csv\")"
   ]
  },
  {
   "cell_type": "code",
   "execution_count": null,
   "id": "0a9f0138-474c-4f36-8783-49e762693f28",
   "metadata": {},
   "outputs": [],
   "source": [
    "from selenium import webdriver\n",
    "from browsermobproxy import Server\n",
    "\n",
    "# Start the BrowserMob Proxy server\n",
    "server = Server(\"path/to/browsermob-proxy\")\n",
    "server.start()\n",
    "proxy = server.create_proxy()\n",
    "\n",
    "# Configure Chrome WebDriver to use the proxy\n",
    "chrome_options = webdriver.ChromeOptions()\n",
    "chrome_options.add_argument(\"--proxy-server={0}\".format(proxy.proxy))\n",
    "\n",
    "# Start Chrome WebDriver with the configured options\n",
    "driver = webdriver.Chrome(options=chrome_options)\n",
    "\n",
    "# Enable network capture\n",
    "proxy.new_har(\"capture\")\n",
    "\n",
    "# Open the web page\n",
    "driver.get(\"https://www.example.com\")\n",
    "\n",
    "# Perform actions on the page that trigger network requests\n",
    "\n",
    "# Get the captured network traffic\n",
    "har = proxy.har\n",
    "\n",
    "# Find the JSON response(s) and extract the data\n",
    "json_responses = []\n",
    "for entry in har[\"log\"][\"entries\"]:\n",
    "    response = entry[\"response\"]\n",
    "    content_type = response[\"content\"][\"mimeType\"]\n",
    "    if content_type == \"application/json\":\n",
    "        json_data = response[\"content\"][\"text\"]\n",
    "        json_responses.append(json_data)\n",
    "\n",
    "# Print the JSON responses\n",
    "for json_data in json_responses:\n",
    "    print(json_data)\n",
    "\n",
    "# Close the browser and proxy server\n",
    "driver.quit()\n",
    "server.stop()\n"
   ]
  },
  {
   "cell_type": "code",
   "execution_count": 28,
   "id": "6078f1b6-712b-4b92-a4be-32b723af0bb4",
   "metadata": {},
   "outputs": [
    {
     "name": "stdout",
     "output_type": "stream",
     "text": [
      "<Response [200]>\n"
     ]
    }
   ],
   "source": [
    "import requests\n",
    "\n",
    "# Set up session with cookies and CSRF token\n",
    "session = requests.Session()\n",
    "cookies = {'cookie_name': 'bcookie=\"v=2&853d89cf-2efd-4105-852a-ce343ee05781\"; bscookie=\"v=1&20221206065043a639f48c-9406-405b-875f-f5dd13258189AQGNGj5WI_RcJSXLHrhd2QD8jOGV16po\"; G_ENABLED_IDPS=google; aam_uuid=16662723610550796321673254091152595947; JSESSIONID=\"ajax:7665625736133769427\"; timezone=Asia/Calcutta; li_sugr=2eb504a4-954f-4f3e-96b4-417d2adabbd2; li_theme=dark; li_theme_set=user; _gcl_au=1.1.2097665459.1670577636; mbox=session#8c98c551e6ef40ebaa1e323d594ffef1#1678212699|PC#8c98c551e6ef40ebaa1e323d594ffef1.31_0#1693762839; _guid=c0fb0f13-b8be-4f6e-a6f7-0d751548e413; gpv_pn=www.linkedin.com%2Fpremium%2Fsurvey%2F; s_ips=837; s_tslv=1683890015601; s_tp=2794; liap=true; AnalyticsSyncHistory=AQJqi0pSmBuagQAAAYiXP5yyAbTBWWetv2Ig_hhMldqgWMeHXRKp65utviwAe-qjwLUVFtpl_K4cYRSUZvmAPA; lms_ads=AQEOPdh67m0x_gAAAYiXP52iUNOvNIrkQUusmn2gEL0vtV2woYFWKHOgmSLYQUAwEExWTQQr4GUWJcC8BTyQAvnPosYXgKbn; lms_analytics=AQEOPdh67m0x_gAAAYiXP52iUNOvNIrkQUusmn2gEL0vtV2woYFWKHOgmSLYQUAwEExWTQQr4GUWJcC8BTyQAvnPosYXgKbn; li_at=AQEDASiK4OEF3UsAAAABiJsY3-gAAAGIvyVj6FYAwmCSTW0Ga-8BtNJIZR9ppknAr2VeW9oaAB1SwxJusj5LL3_OEP6n1eTyta81pfRrMXMy2w8qtlnbcwo7MQKjLvD_MoKt4W-5NcesfUFmhvLT3oyk; ln_or=eyI0MzQ2MTM3IjoiZCJ9; lang=v=2&lang=en-us; AMCVS_14215E3D5995C57C0A495C55%40AdobeOrg=1; AMCV_14215E3D5995C57C0A495C55%40AdobeOrg=-637568504%7CMCIDTS%7C19519%7CMCMID%7C17161253032002680591727051875148916768%7CMCAAMLH-1686990198%7C12%7CMCAAMB-1686990198%7CRKhpRz8krg2tLO6pguXWp5olkAcUniQYPHaMWWgdJ3xzPWQmdj0y%7CMCOPTOUT-1686392598s%7CNONE%7CvVersion%7C5.1.1%7CMCCIDH%7C856016164; UserMatchHistory=AQKKHcMy63pPVgAAAYikk9hqWyWjF4ohF6WQUJKgWElxNhmHrcqaR6T0sw1PVuV9c3aXr9H7lQ4-19mi-gzovrkDOI0IrI98l5T4mvoo_fQs8aVvWc9WQGmCpUJBjJkWIkA-K_0AOtvLzlSUTjJ4PcLUwTKMeg_ap2h-18ZgiQbtZfWjAnASdRtuDX5LtiRGObjjDgABsj0CeNQTV868fhPnE_bqeJY_nVQNagOSf9RptabRQ1lK6cPMm1RHI7ZEVXZ3UFmSPzO8owNuoB3aDdsOiOMAW98nbctd-PjLKc0aJYvdSb08iuVtQGcOGM6mqnYevCTe__koJOhMiRoB2p5OW6Sblw0; lidc=\"b=OGST09:s=O:r=O:a=O:p=O:g=2531:u=1:x=1:i=1686388333:t=1686474733:v=2:sig=AQGK6ZJM4qhYwFsIiv0IO9On96AlKcvr\"'}  # Replace with your actual cookie\n",
    "csrf_token = 'ajax:7665625736133769427'  # Replace with your actual CSRF token\n",
    "\n",
    "# Set the CSRF token in the headers\n",
    "headers = {'Csrf-Token': csrf_token}\n",
    "\n",
    "# Update the session cookies and headers\n",
    "session.cookies.update(cookies)\n",
    "session.headers.update(headers)\n",
    "\n",
    "# Make a GET request to the desired URL\n",
    "url = \"https://www.linkedin.com/voyager/api/jobs/jobPostings/3609692568\"\n",
    "response = session.get(url)\n",
    "\n",
    "print(response)\n",
    "# Retrieve and process the JSON response\n",
    "# json_data = response.json()\n",
    "# # ... process the JSON data as needed\n",
    "\n",
    "# # Close the session\n",
    "# session.close()\n"
   ]
  },
  {
   "cell_type": "code",
   "execution_count": 29,
   "id": "5847c4d4-722e-46a1-972d-6423282ece2f",
   "metadata": {},
   "outputs": [
    {
     "data": {
      "text/plain": [
       "<Response [200]>"
      ]
     },
     "execution_count": 29,
     "metadata": {},
     "output_type": "execute_result"
    }
   ],
   "source": [
    "response"
   ]
  },
  {
   "cell_type": "code",
   "execution_count": 1,
   "id": "2e196faa-7b7a-46eb-aeb7-9bf59ea59aee",
   "metadata": {},
   "outputs": [
    {
     "ename": "NameError",
     "evalue": "name 'response' is not defined",
     "output_type": "error",
     "traceback": [
      "\u001b[1;31m---------------------------------------------------------------------------\u001b[0m",
      "\u001b[1;31mNameError\u001b[0m                                 Traceback (most recent call last)",
      "\u001b[1;32m~\\AppData\\Local\\Temp/ipykernel_10272/4005403299.py\u001b[0m in \u001b[0;36m<module>\u001b[1;34m\u001b[0m\n\u001b[1;32m----> 1\u001b[1;33m \u001b[0mtype\u001b[0m\u001b[1;33m(\u001b[0m\u001b[0mresponse\u001b[0m\u001b[1;33m.\u001b[0m\u001b[0mjson\u001b[0m\u001b[1;33m(\u001b[0m\u001b[1;33m)\u001b[0m\u001b[1;33m)\u001b[0m\u001b[1;33m\u001b[0m\u001b[1;33m\u001b[0m\u001b[0m\n\u001b[0m",
      "\u001b[1;31mNameError\u001b[0m: name 'response' is not defined"
     ]
    }
   ],
   "source": [
    "type(response.json())"
   ]
  },
  {
   "cell_type": "code",
   "execution_count": 2,
   "id": "81cdf5ed-1c96-44b7-b636-3cec298bbc42",
   "metadata": {},
   "outputs": [],
   "source": [
    "import spacy\n",
    "\n",
    "def extract_technical_skills(job_description):\n",
    "    nlp = spacy.load('en_core_web_sm')\n",
    "    doc = nlp(job_description)\n",
    "    \n",
    "    technical_skills = []\n",
    "    for ent in doc.ents:\n",
    "        if ent.label_ == 'SKILL':\n",
    "            technical_skills.append(ent.text)\n",
    "    \n",
    "    return technical_skills"
   ]
  },
  {
   "cell_type": "code",
   "execution_count": 3,
   "id": "cafc2e69-9d92-4f94-af34-be3cd90764fd",
   "metadata": {},
   "outputs": [
    {
     "name": "stdout",
     "output_type": "stream",
     "text": [
      "[]\n"
     ]
    }
   ],
   "source": [
    "job_description = \"We are seeking a candidate with experience in Python, Java, and SQL. Familiarity with machine learning libraries such as TensorFlow or PyTorch is a plus.\"\n",
    "\n",
    "extracted_skills = extract_technical_skills(job_description)\n",
    "print(extracted_skills)\n"
   ]
  },
  {
   "cell_type": "code",
   "execution_count": null,
   "id": "5af0b5ad-6ee4-472e-a5c0-cdecb1a39634",
   "metadata": {},
   "outputs": [],
   "source": []
  }
 ],
 "metadata": {
  "kernelspec": {
   "display_name": "Python 3 (ipykernel)",
   "language": "python",
   "name": "python3"
  },
  "language_info": {
   "codemirror_mode": {
    "name": "ipython",
    "version": 3
   },
   "file_extension": ".py",
   "mimetype": "text/x-python",
   "name": "python",
   "nbconvert_exporter": "python",
   "pygments_lexer": "ipython3",
   "version": "3.9.6"
  }
 },
 "nbformat": 4,
 "nbformat_minor": 5
}
