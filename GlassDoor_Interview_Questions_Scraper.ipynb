{
  "nbformat": 4,
  "nbformat_minor": 0,
  "metadata": {
    "colab": {
      "name": "GlassDoor Interview Questions Scraper.ipynb",
      "provenance": [],
      "collapsed_sections": []
    },
    "kernelspec": {
      "name": "python3",
      "display_name": "Python 3"
    }
  },
  "cells": [
    {
      "cell_type": "code",
      "metadata": {
        "id": "xxSrGigK7XMP"
      },
      "source": [
        "\n",
        "from urllib.request import urlopen\n",
        "from urllib.parse import urlparse\n",
        "import urllib\n",
        "from bs4 import BeautifulSoup\n",
        "import requests\n",
        "import pandas as pd\n",
        "import sys\n",
        "import time\n",
        "import requests\n",
        "from lxml import html\n",
        "import sys\n",
        "import os\n",
        "from google.colab import drive"
      ],
      "execution_count": null,
      "outputs": []
    },
    {
      "cell_type": "code",
      "metadata": {
        "id": "It8f1_Dm7tK7"
      },
      "source": [
        "questions=[]\n",
        "experience=[]\n",
        "opener = urllib.request.build_opener()\n",
        "opener.addheaders = [('User-agent', 'Mozilla/5.0 (Windows NT 10.0; Win64; x64) AppleWebKit/537.36 (KHTML, like Gecko) Chrome/88.0.4324.150 Safari/537.36')]\n",
        "urllib.request.install_opener(opener)\n",
        "# url1='https://www.glassdoor.co.in/Interview/J-P-Morgan-Financial-Analyst-Interview-Questions-EI_IE145.0,10_KO11,28_IP'\n",
        "url1=\"https://www.glassdoor.co.in/Interview/D-E-Shaw-India-Intern-Interview-Questions-EI_IE351722.0,14_KO15,21\"\n",
        "url2='.htm'\n",
        "for i in range(300):\n",
        "  try:\n",
        "    response = urllib.request.urlopen(url1+str(i)+url2)\n",
        "    soup = BeautifulSoup(response, 'html.parser')\n",
        "    raw_urls = soup.find_all('span', attrs={'class': 'interviewQuestion noPadVert truncateThis wrapToggleStr '}) \n",
        "    exp = soup.find_all('p', attrs={'class': 'interviewDetails continueReading interviewContent mb-xsm '})\n",
        "    questions=questions+[i.text for i in raw_urls]\n",
        "    experience=experience+[i.text for i in exp]\n",
        "\n",
        "  except:\n",
        "    print(url+str(i))\n",
        "    print(str(sys.exc_info()))\n",
        "# df = pd.DataFrame(questions,columns =['urls'])\n",
        "# df.to_csv('urls.csv',index=False)"
      ],
      "execution_count": null,
      "outputs": []
    },
    {
      "cell_type": "code",
      "metadata": {
        "colab": {
          "base_uri": "https://localhost:8080/"
        },
        "id": "4Fwjjtqqpldi",
        "outputId": "ea984935-9795-4038-d19a-200bd641b02c"
      },
      "source": [
        "experience\n"
      ],
      "execution_count": null,
      "outputs": [
        {
          "output_type": "execute_result",
          "data": {
            "text/plain": [
              "[]"
            ]
          },
          "metadata": {
            "tags": []
          },
          "execution_count": 5
        }
      ]
    },
    {
      "cell_type": "code",
      "metadata": {
        "colab": {
          "base_uri": "https://localhost:8080/",
          "height": 162
        },
        "id": "_p2S2XeO8rjk",
        "outputId": "16677179-58ec-46c7-890a-7037757cff2e"
      },
      "source": [
        "type(questions[1])"
      ],
      "execution_count": null,
      "outputs": [
        {
          "output_type": "error",
          "ename": "IndexError",
          "evalue": "ignored",
          "traceback": [
            "\u001b[0;31m---------------------------------------------------------------------------\u001b[0m",
            "\u001b[0;31mIndexError\u001b[0m                                Traceback (most recent call last)",
            "\u001b[0;32m<ipython-input-3-933b4738438a>\u001b[0m in \u001b[0;36m<module>\u001b[0;34m()\u001b[0m\n\u001b[0;32m----> 1\u001b[0;31m \u001b[0mtype\u001b[0m\u001b[0;34m(\u001b[0m\u001b[0mquestions\u001b[0m\u001b[0;34m[\u001b[0m\u001b[0;36m1\u001b[0m\u001b[0;34m]\u001b[0m\u001b[0;34m)\u001b[0m\u001b[0;34m\u001b[0m\u001b[0;34m\u001b[0m\u001b[0m\n\u001b[0m",
            "\u001b[0;31mIndexError\u001b[0m: list index out of range"
          ]
        }
      ]
    },
    {
      "cell_type": "code",
      "metadata": {
        "id": "Aqqq5cEX8skN"
      },
      "source": [
        "len()"
      ],
      "execution_count": null,
      "outputs": []
    },
    {
      "cell_type": "code",
      "metadata": {
        "id": "UoTYK0OK9Irn"
      },
      "source": [
        "questions[1].text"
      ],
      "execution_count": null,
      "outputs": []
    },
    {
      "cell_type": "code",
      "metadata": {
        "id": "REtNVnyH9K7Y"
      },
      "source": [
        "len(experience)"
      ],
      "execution_count": null,
      "outputs": []
    },
    {
      "cell_type": "code",
      "metadata": {
        "id": "rnU-S5y6AgFn"
      },
      "source": [
        "len(questions)"
      ],
      "execution_count": null,
      "outputs": []
    },
    {
      "cell_type": "code",
      "metadata": {
        "id": "8BE0S2OqAiLT"
      },
      "source": [
        "data={'ques':questions,'exp':experience}"
      ],
      "execution_count": null,
      "outputs": []
    },
    {
      "cell_type": "code",
      "metadata": {
        "id": "NbrP0DUQAsCQ"
      },
      "source": [
        "import json\n",
        "with open(\"sample.json\", \"w\") as outfile:  \n",
        "    json.dump(dictionary, outfile) "
      ],
      "execution_count": null,
      "outputs": []
    },
    {
      "cell_type": "code",
      "metadata": {
        "id": "sC3SSJTyBVOx"
      },
      "source": [
        "!pip install fpdf"
      ],
      "execution_count": null,
      "outputs": []
    },
    {
      "cell_type": "code",
      "metadata": {
        "id": "47n4xvsgBRgW"
      },
      "source": [
        "f=open('questions.txt','w')\n",
        "for i in questions[:10]:\n",
        "  f.write(i+'\\n')\n",
        "f.close()"
      ],
      "execution_count": null,
      "outputs": []
    },
    {
      "cell_type": "code",
      "metadata": {
        "id": "72M0c3jSCXax"
      },
      "source": [
        "# questions=['# '+i.replace('.','.\\n') for i in questions]\n",
        "experience=['# '+i.replace('.','.\\n') for i in experience]"
      ],
      "execution_count": null,
      "outputs": []
    },
    {
      "cell_type": "code",
      "metadata": {
        "id": "mv6wpSwtBxPI"
      },
      "source": [
        "with open('experiences.txt', mode='wt', encoding='utf-8') as myfile:\n",
        "    myfile.write('\\n'.join(list(set(experience))))"
      ],
      "execution_count": null,
      "outputs": []
    },
    {
      "cell_type": "code",
      "metadata": {
        "id": "tUagceMYCLOa"
      },
      "source": [
        "len(list(set(questions)))"
      ],
      "execution_count": null,
      "outputs": []
    },
    {
      "cell_type": "code",
      "metadata": {
        "id": "HkKj5FStDPFU"
      },
      "source": [
        ""
      ],
      "execution_count": null,
      "outputs": []
    }
  ]
}