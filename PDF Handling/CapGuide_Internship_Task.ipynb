{
  "nbformat": 4,
  "nbformat_minor": 0,
  "metadata": {
    "colab": {
      "name": "CapGuide Internship Task.ipynb",
      "provenance": [],
      "collapsed_sections": [],
      "toc_visible": true
    },
    "kernelspec": {
      "name": "python3",
      "display_name": "Python 3"
    }
  },
  "cells": [
    {
      "cell_type": "markdown",
      "metadata": {
        "id": "8GcnEUVo9kr3"
      },
      "source": [
        "# **CapGuide Internship Task by Deepan.N**\n",
        "I have shown my skills in dataframe handling in this task. As the source was PDF and the results from PDF TO EXCEL websites where not as expected, the given task has been implemented successfully but I had very few places to handle data with Pandas.\n"
      ]
    },
    {
      "cell_type": "markdown",
      "metadata": {
        "id": "OjBjtHYV8TsU"
      },
      "source": [
        "Installing Libraries"
      ]
    },
    {
      "cell_type": "code",
      "metadata": {
        "id": "WEJ0OlkLi-Dh",
        "colab": {
          "base_uri": "https://localhost:8080/",
          "height": 405
        },
        "outputId": "60d0e66f-49b9-41b5-f48b-a29944520aff"
      },
      "source": [
        "!pip install tabula-py\n",
        "!pip install PyPDF2"
      ],
      "execution_count": null,
      "outputs": [
        {
          "output_type": "stream",
          "text": [
            "Collecting tabula-py\n",
            "\u001b[?25l  Downloading https://files.pythonhosted.org/packages/cf/29/d6cb0d77ef46d84d35cffa09cf42c73b373aea664d28604eab6818f8a47c/tabula_py-2.2.0-py3-none-any.whl (11.7MB)\n",
            "\u001b[K     |████████████████████████████████| 11.7MB 332kB/s \n",
            "\u001b[?25hRequirement already satisfied: pandas>=0.25.3 in /usr/local/lib/python3.6/dist-packages (from tabula-py) (1.0.5)\n",
            "Requirement already satisfied: numpy in /usr/local/lib/python3.6/dist-packages (from tabula-py) (1.18.5)\n",
            "Collecting distro\n",
            "  Downloading https://files.pythonhosted.org/packages/25/b7/b3c4270a11414cb22c6352ebc7a83aaa3712043be29daa05018fd5a5c956/distro-1.5.0-py2.py3-none-any.whl\n",
            "Requirement already satisfied: python-dateutil>=2.6.1 in /usr/local/lib/python3.6/dist-packages (from pandas>=0.25.3->tabula-py) (2.8.1)\n",
            "Requirement already satisfied: pytz>=2017.2 in /usr/local/lib/python3.6/dist-packages (from pandas>=0.25.3->tabula-py) (2018.9)\n",
            "Requirement already satisfied: six>=1.5 in /usr/local/lib/python3.6/dist-packages (from python-dateutil>=2.6.1->pandas>=0.25.3->tabula-py) (1.15.0)\n",
            "Installing collected packages: distro, tabula-py\n",
            "Successfully installed distro-1.5.0 tabula-py-2.2.0\n",
            "Collecting PyPDF2\n",
            "\u001b[?25l  Downloading https://files.pythonhosted.org/packages/b4/01/68fcc0d43daf4c6bdbc6b33cc3f77bda531c86b174cac56ef0ffdb96faab/PyPDF2-1.26.0.tar.gz (77kB)\n",
            "\u001b[K     |████████████████████████████████| 81kB 2.2MB/s \n",
            "\u001b[?25hBuilding wheels for collected packages: PyPDF2\n",
            "  Building wheel for PyPDF2 (setup.py) ... \u001b[?25l\u001b[?25hdone\n",
            "  Created wheel for PyPDF2: filename=PyPDF2-1.26.0-cp36-none-any.whl size=61086 sha256=7a812e70ed5d6d8334cb5e61636e20145a8dbe78907228a35113aa0de4266f5d\n",
            "  Stored in directory: /root/.cache/pip/wheels/53/84/19/35bc977c8bf5f0c23a8a011aa958acd4da4bbd7a229315c1b7\n",
            "Successfully built PyPDF2\n",
            "Installing collected packages: PyPDF2\n",
            "Successfully installed PyPDF2-1.26.0\n"
          ],
          "name": "stdout"
        }
      ]
    },
    {
      "cell_type": "markdown",
      "metadata": {
        "id": "kqKJQ9Uz8cZU"
      },
      "source": [
        "Loading Libraries"
      ]
    },
    {
      "cell_type": "code",
      "metadata": {
        "id": "tkjUspPZjAyG"
      },
      "source": [
        "import tabula\n",
        "import PyPDF2\n",
        "import pandas as pd"
      ],
      "execution_count": null,
      "outputs": []
    },
    {
      "cell_type": "markdown",
      "metadata": {
        "id": "5PjP7kJZ8ezj"
      },
      "source": [
        "Reading PDF and filtering Colleges under Savitribai Phule college"
      ]
    },
    {
      "cell_type": "code",
      "metadata": {
        "id": "yGhmTgcqk6Kr",
        "colab": {
          "base_uri": "https://localhost:8080/",
          "height": 33
        },
        "outputId": "3c78028f-8bd5-4012-a0b1-248b58ed6e2f"
      },
      "source": [
        "pdfFileObj = open('college_cutoffs.pdf', 'rb')  \n",
        "pdfReader = PyPDF2.PdfFileReader(pdfFileObj)  \n",
        "print(pdfReader.numPages)\n",
        "page_no=[]\n",
        "for i in range(pdfReader.numPages):\n",
        "  try:\n",
        "    pageObj = pdfReader.getPage(i)\n",
        "    a=pageObj.extractText().split('\\n')\n",
        "    for j in a:\n",
        "      if (j.find('Savitribai Phule Pune') != (-1)):\n",
        "        page_no.append(i)\n",
        "  except:\n",
        "    pass\n",
        "# pdfFileObj.close()  "
      ],
      "execution_count": null,
      "outputs": [
        {
          "output_type": "stream",
          "text": [
            "1303\n"
          ],
          "name": "stdout"
        }
      ]
    },
    {
      "cell_type": "markdown",
      "metadata": {
        "id": "15CTd3298mxV"
      },
      "source": [
        "Filtering Pages with Civil department cutoffs"
      ]
    },
    {
      "cell_type": "code",
      "metadata": {
        "id": "kFVLH0RleJRw"
      },
      "source": [
        "page_no_rev=[]\n",
        "for i in page_no:\n",
        "  try:\n",
        "    pageObj = pdfReader.getPage(i)\n",
        "    a=pageObj.extractText().split('\\n')\n",
        "    for j in a:\n",
        "      if (j.find('Civil') != (-1)):\n",
        "        page_no_rev.append(i)\n",
        "  except:\n",
        "    pass"
      ],
      "execution_count": null,
      "outputs": []
    },
    {
      "cell_type": "markdown",
      "metadata": {
        "id": "SF1-CcRZ8vM0"
      },
      "source": [
        "Filtering Categories Available"
      ]
    },
    {
      "cell_type": "code",
      "metadata": {
        "id": "JB6zKkbZMkHX"
      },
      "source": [
        "titles=[]\n",
        "for i in page_no_rev:\n",
        "  try:\n",
        "    pageObj = pdfReader.getPage(i)\n",
        "    a=pageObj.extractText().split('\\n')\n",
        "    b=[]\n",
        "    for j in a:\n",
        "        if (j.find('Seats') != (-1)):\n",
        "          b.append(j)\n",
        "    titles.append(b)\n",
        "  except:\n",
        "    titles.append([])    \n"
      ],
      "execution_count": null,
      "outputs": []
    },
    {
      "cell_type": "markdown",
      "metadata": {
        "id": "gvrPQfgL84mF"
      },
      "source": [
        "Getting College Names"
      ]
    },
    {
      "cell_type": "code",
      "metadata": {
        "id": "VSyW8skFfupX"
      },
      "source": [
        "col_names=[]\n",
        "for i in page_no_rev:\n",
        "  try:\n",
        "    pageObj = pdfReader.getPage(i)\n",
        "    a=pageObj.extractText().split('\\n')\n",
        "    col_names.append(a[5])\n",
        "  except:\n",
        "    col_names.append([]) "
      ],
      "execution_count": null,
      "outputs": []
    },
    {
      "cell_type": "code",
      "metadata": {
        "id": "PKC1qaJcfI4Q",
        "colab": {
          "base_uri": "https://localhost:8080/",
          "height": 33
        },
        "outputId": "cb35010d-bb45-492d-ba9d-46155c53a7d3"
      },
      "source": [
        "len(col_names)"
      ],
      "execution_count": null,
      "outputs": [
        {
          "output_type": "execute_result",
          "data": {
            "text/plain": [
              "109"
            ]
          },
          "metadata": {
            "tags": []
          },
          "execution_count": 7
        }
      ]
    },
    {
      "cell_type": "code",
      "metadata": {
        "id": "98DnI5nate-A"
      },
      "source": [
        "page_no_rev=[i+1 for i in page_no_rev]"
      ],
      "execution_count": null,
      "outputs": []
    },
    {
      "cell_type": "markdown",
      "metadata": {
        "id": "yVDA-khW89dc"
      },
      "source": [
        "Extracting Tables and Forming a DataFrame"
      ]
    },
    {
      "cell_type": "code",
      "metadata": {
        "id": "2nB9n0lUqLd6"
      },
      "source": [
        "dataframes=[]\n",
        "for i in page_no_rev:\n",
        "  df = tabula.read_pdf(\"college_cutoffs.pdf\", pages=str(i))\n",
        "  dataframes.append(df)"
      ],
      "execution_count": null,
      "outputs": []
    },
    {
      "cell_type": "code",
      "metadata": {
        "id": "GQYbKHrihUBQ",
        "colab": {
          "base_uri": "https://localhost:8080/",
          "height": 34
        },
        "outputId": "37e86b94-15af-4243-ffee-095d32b6cd8c"
      },
      "source": [
        "len(dataframes)"
      ],
      "execution_count": null,
      "outputs": [
        {
          "output_type": "execute_result",
          "data": {
            "text/plain": [
              "109"
            ]
          },
          "metadata": {
            "tags": []
          },
          "execution_count": 10
        }
      ]
    },
    {
      "cell_type": "markdown",
      "metadata": {
        "id": "LQYW2pXJ9CO-"
      },
      "source": [
        "Getting GOPENH or GOPENS cutoffs "
      ]
    },
    {
      "cell_type": "code",
      "metadata": {
        "id": "4RIJH5WRkQHN",
        "colab": {
          "base_uri": "https://localhost:8080/",
          "height": 1000
        },
        "outputId": "b46c9c8e-f478-4811-969e-a10b32fa02df"
      },
      "source": [
        "x=0\n",
        "values=[]\n",
        "for i in dataframes:\n",
        "  print(col_names[x])\n",
        "  try:\n",
        "    print('GOPENS : '+str(i[0]['GOPENS'][0]))\n",
        "    values.append(i[0]['GOPENS'][0])\n",
        "  except:\n",
        "    try:\n",
        "      print('GOPENH : '+str(i[0]['GOPENH'][0]))\n",
        "      values.append(i[0]['GOPENH'][0])\n",
        "    except:\n",
        "      print('error')\n",
        "      values.append(0)\n",
        "  x=x+1\n",
        "\n",
        "\n"
      ],
      "execution_count": null,
      "outputs": [
        {
          "output_type": "stream",
          "text": [
            "2019-20Government of Maharashtra5108 - Nashik District Maratha Vidya Prasarak Samaj's Karmaveer Adv.Babaurao Ganpatrao Thakare College of Engineering, Nashik\n",
            "GOPENH : 38617\r(73.1965557)\n",
            "2019-20Government of Maharashtra5109 - Sandip Foundation, Sandip Institute of Technology and Research Centre, Mahiravani, Nashik\n",
            "GOPENH : 50417\r(55.6552943)\n",
            "2019-20Government of Maharashtra5121 - K. K. Wagh Institute of Engineering Education and Research, Nashik\n",
            "GOPENH : 22937\n",
            "2019-20Government of Maharashtra5121 - K. K. Wagh Institute of Engineering Education and Research, Nashik\n",
            "GOPENH : 32662\n",
            "2019-20Government of Maharashtra5124 - Jagadamba Education Soc. Nashik's S.N.D. College of Engineering & Reserch, Babulgaon512419110 - Civil Engineering\n",
            "GOPENH : 53420\r(50.4073637)\n",
            "2019-20Government of Maharashtra5130 - Brahma Valley College of Engineering & Research, Trimbakeshwar, Nashik\n",
            "GOPENH : 62679\r(33.5790792)\n",
            "2019-20Government of Maharashtra5139 - Pravara Rural College of Engineering, Loni, Pravaranagar, Ahmednagar.\n",
            "GOPENH : 37793\n",
            "2019-20Government of Maharashtra5151 - MET Bhujbal Knowledge City MET League's Engineering College, Adgaon, Nashik.\n",
            "GOPENH : 39672\n",
            "2019-20Government of Maharashtra5160 - Sanjivani Rural Education Society's Sanjivani College of Engineering, Kopargaon516019110 - Civil Engineering\n",
            "GOPENS : 37829\r(74.1745906)\n",
            "2019-20Government of Maharashtra5160 - Sanjivani Rural Education Society's Sanjivani College of Engineering, Kopargaon516019110 - Civil Engineering\n",
            "GOPENS : 37829\r(74.1745906)\n",
            "2019-20Government of Maharashtra5160 - Sanjivani Rural Education Society's Sanjivani College of Engineering, Kopargaon516019110 - Civil Engineering\n",
            "GOPENS : 37829\r(74.1745906)\n",
            "2019-20Government of Maharashtra5161 - Dr. Vithalrao Vikhe Patil College of Engineering, Ahmednagar\n",
            "GOPENH : 36668\n",
            "2019-20Government of Maharashtra5162 - Amrutvahini Sheti & Shikshan Vikas Sanstha's Amrutvahini College of Engineering, Sangamner\n",
            "GOPENH : 34835\n",
            "2019-20Government of Maharashtra5173 - SNJB's Late Sau. Kantabai Bhavarlalji Jain College of Engineering,  (Jain Gurukul), Neminagar,Chandwad,(Nashik)\n",
            "GOPENH : 51433\n",
            "2019-20Government of Maharashtra5173 - SNJB's Late Sau. Kantabai Bhavarlalji Jain College of Engineering,  (Jain Gurukul), Neminagar,Chandwad,(Nashik)\n",
            "GOPENH : 51433\n",
            "2019-20Government of Maharashtra5176 - G. H. Raisoni College of Engineering and Management, Ahmednagar\n",
            "GOPENH : 84289\n",
            "2019-20Government of Maharashtra5176 - G. H. Raisoni College of Engineering and Management, Ahmednagar\n",
            "GOPENH : 84289\n",
            "2019-20Government of Maharashtra5177 - Matoshri College of Engineering and Research Centre, Eklahare, Nashik517719110 - Civil Engineering\n",
            "GOPENH : 80859\r(11.3667142)\n",
            "2019-20Government of Maharashtra5179 - Vishwabharati Academy's College of Engineering, Ahmednagar\n",
            "GOPENH : 59772\n",
            "2019-20Government of Maharashtra5181 - Gokhale Education Society's, R.H. Sapat College of Engineering, Management Studies and Research, Nashik518119110 - Civil Engineering\n",
            "GOPENH : 52670\r(51.6218506)\n",
            "2019-20Government of Maharashtra5184 - Amruta Vaishnavi Education & Welfare Trust's Shatabdi Institute of Engineering & Research, Agaskhind Tal. Sinnar\n",
            "GOPENH : 32066\n",
            "2019-20Government of Maharashtra5184 - Amruta Vaishnavi Education & Welfare Trust's Shatabdi Institute of Engineering & Research, Agaskhind Tal. Sinnar\n",
            "GOPENH : 32066\n",
            "2019-20Government of Maharashtra5303 - Hon. Shri. Babanrao Pachpute Vichardhara Trust, Group of Institutions (Integrated Campus)-Parikrama, Kashti Shrigondha,\n",
            "GOPENH : 76658\n",
            "2019-20Government of Maharashtra5331 - Sandip Foundation's, Sandip Institute of Engineering & Management, Nashik533119110 - Civil Engineering\n",
            "GOPENH : 86676\r(1.2217290)\n",
            "2019-20Government of Maharashtra5380 - Adsul's Technical Campus, Chas Dist. Ahmednagar\n",
            "GOPENH : 65050\r(29.8034515)\n",
            "2019-20Government of Maharashtra5382 - Ahmednagar Jilha Maratha Vidya Prasarak Samajache, Shri. Chhatrapati Shivaji Maharaj College of Engineering, Nepti\n",
            "GOPENH : 46250\r(62.4914001)\n",
            "2019-20Government of Maharashtra5390 - K.V.N. Naik S. P. Sansth's Loknete Gopinathji Munde Institute of Engineering Education & Research, Nashik.\n",
            "GOPENH : 72194\r(21.4983017)\n",
            "2019-20Government of Maharashtra5399 - Sanghavi College of Engineering, Varvandi, Nashik.\n",
            "GOPENH : 43272\r(66.9365527)\n",
            "2019-20Government of Maharashtra5401 - Jawahar Education Society's Institute of Technology, Management & Research, Nashik.\n",
            "error\n",
            "2019-20Government of Maharashtra5401 - Jawahar Education Society's Institute of Technology, Management & Research, Nashik.\n",
            "error\n",
            "2019-20Government of Maharashtra5408 - Vidya Niketan College of Engineering, Bota Sangamner\n",
            "GOPENH : 76835\n",
            "2019-20Government of Maharashtra5408 - Vidya Niketan College of Engineering, Bota Sangamner\n",
            "GOPENH : 76835\n",
            "2019-20Government of Maharashtra5411 - Maulana Mukhtar Ahmad Nadvi Technical Campus, Malegaon.\n",
            "GOPENH : 86342\n",
            "2019-20Government of Maharashtra5411 - Maulana Mukhtar Ahmad Nadvi Technical Campus, Malegaon.\n",
            "GOPENH : 86342\n",
            "2019-20Government of Maharashtra5418 - Guru Gobind Singh College of Engineering & Research Centre, Nashik.541819110 - Civil Engineering\n",
            "GOPENH : 64014\r(31.4057487)\n",
            "2019-20Government of Maharashtra6004 - Government College of Engineering & Research, Avasari Khurd\n",
            "GOPENH : 12456\n",
            "2019-20Government of Maharashtra6006 - College of Engineering, Pune600619110 - Civil Engineering\n",
            "GOPENS : 1255\r(99.3724789)\n",
            "2019-20Government of Maharashtra6006 - College of Engineering, Pune600619110 - Civil Engineering\n",
            "GOPENS : 1255\r(99.3724789)\n",
            "2019-20Government of Maharashtra6006 - College of Engineering, Pune600619110 - Civil Engineering\n",
            "GOPENS : 1255\r(99.3724789)\n",
            "2019-20Government of Maharashtra6006 - College of Engineering, Pune600619110 - Civil Engineering\n",
            "GOPENS : 1255\r(99.3724789)\n",
            "2019-20Government of Maharashtra6006 - College of Engineering, Pune600619110 - Civil Engineering\n",
            "GOPENS : 1255\r(99.3724789)\n",
            "2019-20Government of Maharashtra6122 - TSSMS's Pd. Vasantdada Patil Institute of Technology, Bavdhan, Pune\n",
            "GOPENH : 86350\r(1.9314470)\n",
            "2019-20Government of Maharashtra6138 - Genba Sopanrao Moze Trust Parvatibai Genba Moze College of Engineering,Wagholi, Pune\n",
            "GOPENH : 86522\n",
            "2019-20Government of Maharashtra6141 - Jaywant Shikshan Prasarak Mandal's,Rajarshi Shahu College of Engineering, Tathawade, Pune\n",
            "GOPENS : 32932\n",
            "2019-20Government of Maharashtra6141 - Jaywant Shikshan Prasarak Mandal's,Rajarshi Shahu College of Engineering, Tathawade, Pune\n",
            "GOPENS : 32932\n",
            "2019-20Government of Maharashtra6141 - Jaywant Shikshan Prasarak Mandal's,Rajarshi Shahu College of Engineering, Tathawade, Pune\n",
            "GOPENS : 32932\n",
            "2019-20Government of Maharashtra6141 - Jaywant Shikshan Prasarak Mandal's,Rajarshi Shahu College of Engineering, Tathawade, Pune\n",
            "GOPENS : 32932\n",
            "2019-20Government of Maharashtra6144 - Genba Sopanrao Moze College of Engineering, Baner-Balewadi, Pune614419110 - Civil Engineering\n",
            "GOPENH : 39934\r(71.5439265)\n",
            "2019-20Government of Maharashtra6144 - Genba Sopanrao Moze College of Engineering, Baner-Balewadi, Pune614419110 - Civil Engineering\n",
            "GOPENH : 39934\r(71.5439265)\n",
            "2019-20Government of Maharashtra6146 - MIT Academy of Engineering,Alandi, Pune\n",
            "GOPENS : 16173\r(92.1778930)\n",
            "2019-20Government of Maharashtra6146 - MIT Academy of Engineering,Alandi, Pune\n",
            "GOPENS : 16173\r(92.1778930)\n",
            "2019-20Government of Maharashtra6146 - MIT Academy of Engineering,Alandi, Pune\n",
            "GOPENS : 16173\r(92.1778930)\n",
            "2019-20Government of Maharashtra6146 - MIT Academy of Engineering,Alandi, Pune\n",
            "GOPENS : 16173\r(92.1778930)\n",
            "2019-20Government of Maharashtra6149 - Choudhary Attar Singh Yadav Memorial Trust,Siddhant College of Engineering, Maval\n",
            "GOPENH : 77715\n",
            "2019-20Government of Maharashtra6149 - Choudhary Attar Singh Yadav Memorial Trust,Siddhant College of Engineering, Maval\n",
            "GOPENH : 77715\n",
            "2019-20Government of Maharashtra6155 - G.H.Raisoni College of Engineering & Management, Wagholi, Pune\n",
            "GOPENS : 48052\r(59.6847548)\n",
            "2019-20Government of Maharashtra6155 - G.H.Raisoni College of Engineering & Management, Wagholi, Pune\n",
            "GOPENS : 48052\r(59.6847548)\n",
            "2019-20Government of Maharashtra6155 - G.H.Raisoni College of Engineering & Management, Wagholi, Pune\n",
            "GOPENS : 48052\r(59.6847548)\n",
            "2019-20Government of Maharashtra6155 - G.H.Raisoni College of Engineering & Management, Wagholi, Pune\n",
            "GOPENS : 48052\r(59.6847548)\n",
            "2019-20Government of Maharashtra6160 - JSPM's Imperial College of Engineering and Research, Wagholi, Pune\n",
            "GOPENH : 54833\n",
            "2019-20Government of Maharashtra6160 - JSPM's Imperial College of Engineering and Research, Wagholi, Pune\n",
            "GOPENH : 85727\r(3.1260184)\n",
            "2019-20Government of Maharashtra6175 - Pimpri Chinchwad Education Trust, Pimpri Chinchwad College of Engineering, Pune\n",
            "GOPENH : 12971\n",
            "2019-20Government of Maharashtra6176 - G. H.Raisoni Institute of Engineering and Technology, Wagholi, Pune\n",
            "GOPENH : 86331\r(1.9687434)\n",
            "2019-20Government of Maharashtra6177 - Sinhgad College of Engineering, Vadgaon (BK), Pune\n",
            "GOPENH : 32805\n",
            "2019-20Government of Maharashtra6177 - Sinhgad College of Engineering, Vadgaon (BK), Pune\n",
            "GOPENH : 50805\r(54.9959083)\n",
            "2019-20Government of Maharashtra6179 - Indira College of Engineering & Management, Pune617919110 - Civil Engineering\n",
            "GOPENH : 75089\n",
            "2019-20Government of Maharashtra6182 - Sinhgad Technical Education Society, Sinhgad Institute of Technology and Science, Narhe (Ambegaon)\n",
            "GOPENH : 85995\r(2.6143696)\n",
            "2019-20Government of Maharashtra6184 - K. J.'s Educational Institut Trinity College of Engineering and Research, Pisoli, Haveli\n",
            "GOPENH : 83189\r(7.7279607)\n",
            "2019-20Government of Maharashtra6187 - Sinhgad Academy of Engineering, Kondhwa (BK)  Kondhwa-Saswad Road, Pune\n",
            "GOPENH : 86733\r(1.1207028)\n",
            "2019-20Government of Maharashtra6203 - Marathwada Mitra Mandal's Institute of Technology, Lohgaon, Pune\n",
            "GOPENH : 69340\r(24.3440539)\n",
            "2019-20Government of Maharashtra6207 - Dr. D. Y. Patil Vidya Pratishthan Society Dr .D. Y. Patil Institute of Engineering & Technology, Pimpri,Pune\n",
            "GOPENH : 45456\n",
            "2019-20Government of Maharashtra6272 - Dr. D. Y. Patil Pratishthan's D.Y.Patil College of Engineering Akurdi, Pune\n",
            "GOPENH : 40070\n",
            "2019-20Government of Maharashtra6272 - Dr. D. Y. Patil Pratishthan's D.Y.Patil College of Engineering Akurdi, Pune\n",
            "GOPENH : 48387\r(59.1354475)\n",
            "2019-20Government of Maharashtra6275 - Shivnagar Vidya Prasarak Mandal's College of Engineering, Malegaon-Baramati\n",
            "GOPENH : 70739\r(22.9322219)\n",
            "2019-20Government of Maharashtra6278 - All India Shri Shivaji Memorial Society's College of Engineering, Pune\n",
            "GOPENH : 28635\n",
            "2019-20Government of Maharashtra6284 - Vidya Pratishthan's Kamalnayan Bajaj Institute of Engineering & Technology, Baramati Dist.Pune\n",
            "GOPENH : 51428\r(53.8284945)\n",
            "2019-20Government of Maharashtra6289 - B.R.A.C.T's Vishwakarma Institute of Information Technology, Kondhwa (Bk.), Pune\n",
            "GOPENS : 14178\r(93.2533331)\n",
            "2019-20Government of Maharashtra6289 - B.R.A.C.T's Vishwakarma Institute of Information Technology, Kondhwa (Bk.), Pune\n",
            "GOPENS : 14178\r(93.2533331)\n",
            "2019-20Government of Maharashtra6289 - B.R.A.C.T's Vishwakarma Institute of Information Technology, Kondhwa (Bk.), Pune\n",
            "GOPENS : 14178\r(93.2533331)\n",
            "2019-20Government of Maharashtra6289 - B.R.A.C.T's Vishwakarma Institute of Information Technology, Kondhwa (Bk.), Pune\n",
            "GOPENS : 14178\r(93.2533331)\n",
            "2019-20Government of Maharashtra6298 - Zeal Education Society's Zeal College of Engineering & Reserch, Narhe, Pune629819110 - Civil Engineering\n",
            "GOPENH : 77452\r(15.8549568)\n",
            "2019-20Government of Maharashtra6307 - Dhole Patil Education Society, Dhole Patil College of Engineering, Wagholi, Tal. Haveli\n",
            "GOPENH : 70199\r(23.4652347)\n",
            "2019-20Government of Maharashtra6319 - Shahajirao Patil Vikas Pratishthan, S.B.Patil College of Engineering, Vangali, Tal. Indapur\n",
            "GOPENH : 87078\r(0.2770073)\n",
            "2019-20Government of Maharashtra6320 - K.J.'s Educational Institute's K.J.College of Engineering & Management Research, Pisoli632019110 - Civil Engineering\n",
            "GOPENH : 80753\n",
            "2019-20Government of Maharashtra6324 - Rajgad Dnyanpeeth's Technical Campus,Dhangwadi, Bhor\n",
            "GOPENH : 78636\n",
            "2019-20Government of Maharashtra6325 - Alard  Charitable Trust's Alard College of Engineering and Management, Pune\n",
            "GOPENH : 23543\n",
            "2019-20Government of Maharashtra6325 - Alard  Charitable Trust's Alard College of Engineering and Management, Pune\n",
            "GOPENH : 23543\n",
            "2019-20Government of Maharashtra6609 - Jaihind College Of Engineering,Kuran660919110 - Civil Engineering\n",
            "GOPENH : 86104\r(2.4155761)\n",
            "2019-20Government of Maharashtra6609 - Jaihind College Of Engineering,Kuran660919110 - Civil Engineering\n",
            "GOPENH : 86104\r(2.4155761)\n",
            "2019-20Government of Maharashtra6620 - D. Y. Patil Institute of Engineering and Technology, Ambi\n",
            "GOPENH : 80689\r(11.6046146)\n",
            "2019-20Government of Maharashtra6628 - Dattakala Group Of Institutions, Swami - Chincholi Tal. Daund Dist. Pune\n",
            "GOPENH : 77441\n",
            "2019-20Government of Maharashtra6632 - Navsahyadri Education Society's Group of Institutions663219110 - Civil Engineering\n",
            "GOPENH : 85375\n",
            "2019-20Government of Maharashtra6634 - KJEI's Trinity Academy of Engineering, Yewalewadi, Pune\n",
            "GOPENH : 86552\n",
            "2019-20Government of Maharashtra6635 - Samarth Group of Institutions, Bangarwadi, Post Belhe Tal. Junnar Dist. Pune\n",
            "GOPENH : 53775\n",
            "2019-20Government of Maharashtra6649 - TSSM's Bhivarabai Sawant College of Engineering and Research, Narhe, Pune664919110 - Civil Engineering\n",
            "GOPENH : 86534\r(1.5110477)\n",
            "2019-20Government of Maharashtra6732 - Dr. D. Y. Patil School OF Engineering, Lohegaon, Pune\n",
            "GOPENH : 58410\r(41.2527248)\n",
            "2019-20Government of Maharashtra6755 - JSPM Narhe Technical Campus, Pune.\n",
            "GOPENH : 86681\r(1.2065207)\n",
            "2019-20Government of Maharashtra6759 - Shree Ramchandra College of Engineering, Lonikand,Pune675919110 - Civil Engineering\n",
            "GOPENH : 68434\r(25.3630063)\n",
            "2019-20Government of Maharashtra6759 - Shree Ramchandra College of Engineering, Lonikand,Pune675919110 - Civil Engineering\n",
            "GOPENH : 68434\r(25.3630063)\n",
            "2019-20Government of Maharashtra6768 - P.K. Technical Campus, Pune.\n",
            "GOPENH : 83588\n",
            "2019-20Government of Maharashtra6769 - Rasiklal M. Dhariwal Sinhgad Technical Institutes Campus, Warje, Pune.\n",
            "GOPENH : 86401\n",
            "2019-20Government of Maharashtra6787 - Dr. D. Y. Patil Educational Academy's, D.Y.Patil School of Engineering Academy, Ambi\n",
            "GOPENH : 82394\r(9.0369560)\n",
            "2019-20Government of Maharashtra6794 - Anantrao Pawar College of Engineering & Research, Pune\n",
            "GOPENH : 84687\n",
            "2019-20Government of Maharashtra6795 - Shri.Someshwar Shikshan Prasarak Mandals, Someshwar Engineering College, Someshwar Nagar679519110 - Civil Engineering\n",
            "GOPENH : 81692\r(10.1511410)\n",
            "2019-20Government of Maharashtra6795 - Shri.Someshwar Shikshan Prasarak Mandals, Someshwar Engineering College, Someshwar Nagar679519110 - Civil Engineering\n",
            "GOPENH : 81692\r(10.1511410)\n",
            "2019-20Government of Maharashtra6796 - Bharati Vidyapeeth's College of Engineering,Lavale, Pune\n",
            "GOPENH : 59535\r(39.1916456)\n",
            "2019-20Government of Maharashtra6802 - Dr. D.Y.Patil Institute of Engineering, Management & Reseach, Akurdi, Pune\n",
            "GOPENH : 46359\n",
            "2019-20Government of Maharashtra6822 - Pimpri Chinchwad Education Trust's Pimpri Chinchwad College Of Engineering And Research, Ravet\n",
            "GOPENH : 41752\n",
            "2019-20Government of Maharashtra6834 - Dr.D.Y.Patil College Of Engineering & Innovation,Talegaon\n",
            "GOPENH : 84073\n"
          ],
          "name": "stdout"
        }
      ]
    },
    {
      "cell_type": "code",
      "metadata": {
        "id": "IIHfNE-SnDdq"
      },
      "source": [
        "len(values)\n",
        "values=[i.split('\\r')[0] if type(i) != type(1) else i for i in values]"
      ],
      "execution_count": null,
      "outputs": []
    },
    {
      "cell_type": "code",
      "metadata": {
        "id": "6TRTW2u0ocjw"
      },
      "source": [
        "values = [int(i) if type(i) == type('a') else i for i in values]"
      ],
      "execution_count": null,
      "outputs": []
    },
    {
      "cell_type": "markdown",
      "metadata": {
        "id": "LIko0AmA9JHC"
      },
      "source": [
        "Finding Top 10 colleges Based on Cutoff rank ( lower the cutoff rank, Higher the valuability of the college)"
      ]
    },
    {
      "cell_type": "code",
      "metadata": {
        "id": "H7cKALhopRC_",
        "colab": {
          "base_uri": "https://localhost:8080/",
          "height": 870
        },
        "outputId": "d694815a-21fd-4258-bc1a-3a9d5e25f38e"
      },
      "source": [
        "temp=[i for i in values]\n",
        "temp=list(set(temp))\n",
        "temp.sort()\n",
        "for i in range(10):\n",
        "  print(str(i+1)+' : ')\n",
        "  print('Cutoff Rank :')\n",
        "  print(temp[i+1])\n",
        "  print('Corresponding College : ')\n",
        "  print(col_names[values.index(temp[i+1])])"
      ],
      "execution_count": null,
      "outputs": [
        {
          "output_type": "stream",
          "text": [
            "1 : \n",
            "Cutoff Rank :\n",
            "1255\n",
            "Corresponding College : \n",
            "2019-20Government of Maharashtra6006 - College of Engineering, Pune600619110 - Civil Engineering\n",
            "2 : \n",
            "Cutoff Rank :\n",
            "12456\n",
            "Corresponding College : \n",
            "2019-20Government of Maharashtra6004 - Government College of Engineering & Research, Avasari Khurd\n",
            "3 : \n",
            "Cutoff Rank :\n",
            "12971\n",
            "Corresponding College : \n",
            "2019-20Government of Maharashtra6175 - Pimpri Chinchwad Education Trust, Pimpri Chinchwad College of Engineering, Pune\n",
            "4 : \n",
            "Cutoff Rank :\n",
            "14178\n",
            "Corresponding College : \n",
            "2019-20Government of Maharashtra6289 - B.R.A.C.T's Vishwakarma Institute of Information Technology, Kondhwa (Bk.), Pune\n",
            "5 : \n",
            "Cutoff Rank :\n",
            "16173\n",
            "Corresponding College : \n",
            "2019-20Government of Maharashtra6146 - MIT Academy of Engineering,Alandi, Pune\n",
            "6 : \n",
            "Cutoff Rank :\n",
            "22937\n",
            "Corresponding College : \n",
            "2019-20Government of Maharashtra5121 - K. K. Wagh Institute of Engineering Education and Research, Nashik\n",
            "7 : \n",
            "Cutoff Rank :\n",
            "23543\n",
            "Corresponding College : \n",
            "2019-20Government of Maharashtra6325 - Alard  Charitable Trust's Alard College of Engineering and Management, Pune\n",
            "8 : \n",
            "Cutoff Rank :\n",
            "28635\n",
            "Corresponding College : \n",
            "2019-20Government of Maharashtra6278 - All India Shri Shivaji Memorial Society's College of Engineering, Pune\n",
            "9 : \n",
            "Cutoff Rank :\n",
            "32066\n",
            "Corresponding College : \n",
            "2019-20Government of Maharashtra5184 - Amruta Vaishnavi Education & Welfare Trust's Shatabdi Institute of Engineering & Research, Agaskhind Tal. Sinnar\n",
            "10 : \n",
            "Cutoff Rank :\n",
            "32662\n",
            "Corresponding College : \n",
            "2019-20Government of Maharashtra5121 - K. K. Wagh Institute of Engineering Education and Research, Nashik\n"
          ],
          "name": "stdout"
        }
      ]
    },
    {
      "cell_type": "markdown",
      "metadata": {
        "id": "8HDTR_YTWTXM"
      },
      "source": [
        "# Bonus Task"
      ]
    },
    {
      "cell_type": "markdown",
      "metadata": {
        "id": "QxFEnCI_drXH"
      },
      "source": [
        "  Top 10 in GSCS Category (results are inconclusive)"
      ]
    },
    {
      "cell_type": "code",
      "metadata": {
        "id": "g9o3MgqRYhzc"
      },
      "source": [
        "z=0\n",
        "for i in dataframes:\n",
        "  w=0\n",
        "  for j in i:\n",
        "    if(list(j.columns).count('GSCS')>0):\n",
        "      gscs_list.append([z,w])\n",
        "    w=w+1\n",
        "  z=z+1\n",
        "\n"
      ],
      "execution_count": null,
      "outputs": []
    },
    {
      "cell_type": "code",
      "metadata": {
        "id": "nqLzlqDcZ3vR",
        "colab": {
          "base_uri": "https://localhost:8080/",
          "height": 34
        },
        "outputId": "310702ef-eafc-44ff-9d0e-ce5fb8cce8da"
      },
      "source": [
        "gscs_list_revised=[]\n",
        "for i in gscs_list:\n",
        "  if(i[1]==0):\n",
        "    gscs_list_revised.append(i)\n",
        "gscs_list_revised=[i[0] for i in gscs_list_revised]\n",
        "gscs_list_revised=list(set(gscs_list_revised))\n",
        "gscs_list_revised"
      ],
      "execution_count": null,
      "outputs": [
        {
          "output_type": "execute_result",
          "data": {
            "text/plain": [
              "[36, 37, 38, 39, 8, 9, 10, 40, 43, 44, 45, 46, 76, 49, 50, 51, 52, 77, 78, 79]"
            ]
          },
          "metadata": {
            "tags": []
          },
          "execution_count": 28
        }
      ]
    },
    {
      "cell_type": "code",
      "metadata": {
        "id": "Nl8mEb6NeEMe"
      },
      "source": [
        "values=[dataframes[i][0]['GSCS'] for i in gscs_list_revised]"
      ],
      "execution_count": null,
      "outputs": []
    },
    {
      "cell_type": "code",
      "metadata": {
        "id": "wf2x9hlOjA_3",
        "colab": {
          "base_uri": "https://localhost:8080/",
          "height": 34
        },
        "outputId": "406cfb61-8671-4007-9b48-ad7ed393a16a"
      },
      "source": [
        "values=[int(i[0].split('\\r')[0]) for i in values]\n",
        "temp=[i for i in values]\n",
        "temp=list(set(temp))\n",
        "temp"
      ],
      "execution_count": null,
      "outputs": [
        {
          "output_type": "execute_result",
          "data": {
            "text/plain": [
              "[24483, 5571, 28518, 54394, 76093]"
            ]
          },
          "metadata": {
            "tags": []
          },
          "execution_count": 47
        }
      ]
    },
    {
      "cell_type": "code",
      "metadata": {
        "id": "Sm-3JS1gdnVW",
        "colab": {
          "base_uri": "https://localhost:8080/",
          "height": 443
        },
        "outputId": "791db8cf-ae1e-4753-af0e-066f20b5413a"
      },
      "source": [
        "temp.sort()\n",
        "for i in range(len(temp)):\n",
        "  print(str(i+1)+' : ')\n",
        "  print('Cutoff Rank :')\n",
        "  print(temp[i])\n",
        "  print('Corresponding College : ')\n",
        "  print(col_names[values.index(temp[i])])"
      ],
      "execution_count": null,
      "outputs": [
        {
          "output_type": "stream",
          "text": [
            "1 : \n",
            "Cutoff Rank :\n",
            "5571\n",
            "Corresponding College : \n",
            "2019-20Government of Maharashtra5108 - Nashik District Maratha Vidya Prasarak Samaj's Karmaveer Adv.Babaurao Ganpatrao Thakare College of Engineering, Nashik\n",
            "2 : \n",
            "Cutoff Rank :\n",
            "24483\n",
            "Corresponding College : \n",
            "2019-20Government of Maharashtra5173 - SNJB's Late Sau. Kantabai Bhavarlalji Jain College of Engineering,  (Jain Gurukul), Neminagar,Chandwad,(Nashik)\n",
            "3 : \n",
            "Cutoff Rank :\n",
            "28518\n",
            "Corresponding College : \n",
            "2019-20Government of Maharashtra5162 - Amrutvahini Sheti & Shikshan Vikas Sanstha's Amrutvahini College of Engineering, Sangamner\n",
            "4 : \n",
            "Cutoff Rank :\n",
            "54394\n",
            "Corresponding College : \n",
            "2019-20Government of Maharashtra5160 - Sanjivani Rural Education Society's Sanjivani College of Engineering, Kopargaon516019110 - Civil Engineering\n",
            "5 : \n",
            "Cutoff Rank :\n",
            "76093\n",
            "Corresponding College : \n",
            "2019-20Government of Maharashtra5124 - Jagadamba Education Soc. Nashik's S.N.D. College of Engineering & Reserch, Babulgaon512419110 - Civil Engineering\n"
          ],
          "name": "stdout"
        }
      ]
    },
    {
      "cell_type": "markdown",
      "metadata": {
        "id": "JhuBiw3hkGPX"
      },
      "source": [
        "Top 10 in GSTS Category (results are inconclusive)"
      ]
    },
    {
      "cell_type": "code",
      "metadata": {
        "id": "sb-aJYDXkKdQ"
      },
      "source": [
        "z=0\n",
        "for i in dataframes:\n",
        "  w=0\n",
        "  for j in i:\n",
        "    if(list(j.columns).count('GSTS')>0):\n",
        "      gscs_list.append([z,w])\n",
        "    w=w+1\n",
        "  z=z+1"
      ],
      "execution_count": null,
      "outputs": []
    },
    {
      "cell_type": "code",
      "metadata": {
        "id": "qCOR-BDMkK0v",
        "colab": {
          "base_uri": "https://localhost:8080/",
          "height": 34
        },
        "outputId": "2b834d2a-1f46-4d50-a7be-c70ae842a877"
      },
      "source": [
        "gscs_list_revised=[]\n",
        "for i in gscs_list:\n",
        "  if(i[1]==0):\n",
        "    gscs_list_revised.append(i)\n",
        "gscs_list_revised=[i[0] for i in gscs_list_revised]\n",
        "gscs_list_revised=list(set(gscs_list_revised))\n",
        "gscs_list_revised"
      ],
      "execution_count": null,
      "outputs": [
        {
          "output_type": "execute_result",
          "data": {
            "text/plain": [
              "[36, 37, 38, 39, 8, 9, 10, 40, 43, 44, 45, 46, 76, 49, 50, 51, 52, 77, 78, 79]"
            ]
          },
          "metadata": {
            "tags": []
          },
          "execution_count": 51
        }
      ]
    },
    {
      "cell_type": "code",
      "metadata": {
        "id": "XNyri8r6kLAb",
        "colab": {
          "base_uri": "https://localhost:8080/",
          "height": 34
        },
        "outputId": "6880396e-b34f-49d9-ef2a-d46fd019ab8f"
      },
      "source": [
        "values=[dataframes[i][0]['GSTS'] for i in gscs_list_revised]\n",
        "values=[int(i[0].split('\\r')[0]) for i in values]\n",
        "temp=[i for i in values]\n",
        "temp=list(set(temp))\n",
        "temp"
      ],
      "execution_count": null,
      "outputs": [
        {
          "output_type": "execute_result",
          "data": {
            "text/plain": [
              "[78818, 80325, 15858, 29660, 72445]"
            ]
          },
          "metadata": {
            "tags": []
          },
          "execution_count": 52
        }
      ]
    },
    {
      "cell_type": "code",
      "metadata": {
        "id": "PXiLJhA_kKrb",
        "colab": {
          "base_uri": "https://localhost:8080/",
          "height": 443
        },
        "outputId": "a5c0c947-0fb5-45a9-c740-4e81f56a96b8"
      },
      "source": [
        "temp.sort()\n",
        "for i in range(len(temp)):\n",
        "  print(str(i+1)+' : ')\n",
        "  print('Cutoff Rank :')\n",
        "  print(temp[i])\n",
        "  print('Corresponding College : ')\n",
        "  print(col_names[values.index(temp[i])])"
      ],
      "execution_count": null,
      "outputs": [
        {
          "output_type": "stream",
          "text": [
            "1 : \n",
            "Cutoff Rank :\n",
            "15858\n",
            "Corresponding College : \n",
            "2019-20Government of Maharashtra5108 - Nashik District Maratha Vidya Prasarak Samaj's Karmaveer Adv.Babaurao Ganpatrao Thakare College of Engineering, Nashik\n",
            "2 : \n",
            "Cutoff Rank :\n",
            "29660\n",
            "Corresponding College : \n",
            "2019-20Government of Maharashtra5173 - SNJB's Late Sau. Kantabai Bhavarlalji Jain College of Engineering,  (Jain Gurukul), Neminagar,Chandwad,(Nashik)\n",
            "3 : \n",
            "Cutoff Rank :\n",
            "72445\n",
            "Corresponding College : \n",
            "2019-20Government of Maharashtra5162 - Amrutvahini Sheti & Shikshan Vikas Sanstha's Amrutvahini College of Engineering, Sangamner\n",
            "4 : \n",
            "Cutoff Rank :\n",
            "78818\n",
            "Corresponding College : \n",
            "2019-20Government of Maharashtra5124 - Jagadamba Education Soc. Nashik's S.N.D. College of Engineering & Reserch, Babulgaon512419110 - Civil Engineering\n",
            "5 : \n",
            "Cutoff Rank :\n",
            "80325\n",
            "Corresponding College : \n",
            "2019-20Government of Maharashtra5160 - Sanjivani Rural Education Society's Sanjivani College of Engineering, Kopargaon516019110 - Civil Engineering\n"
          ],
          "name": "stdout"
        }
      ]
    }
  ]
}