{
  "nbformat": 4,
  "nbformat_minor": 0,
  "metadata": {
    "colab": {
      "name": "Stock ABCD Pattern Finder.ipynb",
      "provenance": [],
      "collapsed_sections": []
    },
    "kernelspec": {
      "name": "ir",
      "display_name": "R"
    }
  },
  "cells": [
    {
      "cell_type": "code",
      "metadata": {
        "id": "A6jHXy-oUWrP",
        "outputId": "66b284aa-6a6f-476c-ce68-a262e73d136d",
        "colab": {
          "base_uri": "https://localhost:8080/",
          "height": 101
        }
      },
      "source": [
        "install.packages('data.table')"
      ],
      "execution_count": null,
      "outputs": [
        {
          "output_type": "stream",
          "text": [
            "Installing package into ‘/usr/local/lib/R/site-library’\n",
            "(as ‘lib’ is unspecified)\n",
            "\n",
            "Warning message in install.packages(\"data.table\"):\n",
            "“installation of package ‘data.table’ had non-zero exit status”\n"
          ],
          "name": "stderr"
        }
      ]
    },
    {
      "cell_type": "code",
      "metadata": {
        "id": "y4OS1uA0UPqZ",
        "outputId": "c8361bd3-ec60-48f9-b8dc-206d7c07dea5",
        "colab": {
          "base_uri": "https://localhost:8080/",
          "height": 128
        }
      },
      "source": [
        "library(data.table)\n",
        "library(tidyr)\n",
        "library(tidyverse)"
      ],
      "execution_count": null,
      "outputs": [
        {
          "output_type": "error",
          "ename": "ERROR",
          "evalue": "ignored",
          "traceback": [
            "Error in library(data.table): there is no package called ‘data.table’\nTraceback:\n",
            "1. library(data.table)"
          ]
        }
      ]
    },
    {
      "cell_type": "code",
      "metadata": {
        "id": "MM8lpWq1uGIN"
      },
      "source": [
        "data <- read_csv(\"IOC.csv\")\n",
        "# test_df <- data_frame(a = c(1,2,3,4,5,6,7,8,9,10), \n",
        "#                       b = c(\"a\",\"b\",\"c\",\"d\",\"e\",\"f\",\"g\",\"h\",\"i\",\"j\"))\n",
        "# slice(test_df, 1:(n()-5))\n",
        "maximums <- function(x) which(x - shift(x, 1) > 0  & x - shift(x, 1, type='lead') > 0)\n",
        "minimums <- function(x) which(x - shift(x, 1) < 0  & x - shift(x, 1, type='lead') < 0)\n",
        "close<-data['Close']\n",
        "maxs<-maximums(close[!is.na(close)])\n",
        "x<-c()\n",
        "for(i in maxs){x <- c(x, i)}\n",
        "mins<-minimums(close[!is.na(close)])\n",
        "y<-c()\n",
        "for(i in mins){y <- c(y, i)}"
      ],
      "execution_count": null,
      "outputs": []
    },
    {
      "cell_type": "code",
      "metadata": {
        "id": "CxJJ8_MqVdw5"
      },
      "source": [
        "pairs_max<-c()\n",
        "index_list<-c()\n",
        "inc_no<-1\n",
        "for(i in seq(1,length(maxs)-1))\n",
        "{\n",
        "  tryCatch({if(as.numeric(close[x[[i]],1])<as.numeric(close[x[[i+inc_no]],1]))\n",
        "  {\n",
        "    print(as.numeric(close[x[[i]],1]))\n",
        "    print(as.numeric(close[x[[i+inc_no]],1]))\n",
        "    print('==========')\n",
        "    pairs_max<-c(pairs_max,as.numeric(close[x[[i]],1]))\n",
        "    pairs_max<-c(pairs_max,as.numeric(close[x[[i+inc_no]],1]))\n",
        "    index_list<-c(index_list,x[[i]])\n",
        "    index_list<-c(index_list,x[[i+inc_no]])\n",
        "  }}, error=function(e){})\n",
        "}\n",
        "pairs_max_mat <- matrix(pairs_max, ncol = 2, byrow = TRUE)\n",
        "index_list_mat <- matrix(index_list, ncol = 2, byrow = TRUE)"
      ],
      "execution_count": null,
      "outputs": []
    },
    {
      "cell_type": "code",
      "metadata": {
        "id": "6tU-ob_WOZ3w"
      },
      "source": [
        "close_list=c()\n",
        "for(i in seq(1,dim(close)[1])){\n",
        "  close_list<-c(close_list,as.numeric(close[i,1]))\n",
        "\n",
        "}"
      ],
      "execution_count": null,
      "outputs": []
    },
    {
      "cell_type": "code",
      "metadata": {
        "id": "mhVD51F3OcPy"
      },
      "source": [
        "min_for_max<-c()\n",
        "min_for_max_ind<-c()\n",
        "for(i in seq(1,dim(index_list_mat)[1])){\n",
        "  min_for_max<-c(min_for_max,min(close_list[seq(index_list_mat[i,1],index_list_mat[i,2])]))\n",
        "  min_for_max_ind<-c(min_for_max_ind,which(close_list==min(close_list[seq(index_list_mat[i,1],index_list_mat[i,2])])))\n",
        "}"
      ],
      "execution_count": null,
      "outputs": []
    },
    {
      "cell_type": "code",
      "metadata": {
        "id": "3-ACddDQQS9i"
      },
      "source": [
        "print(paste('B : ',pairs_max_mat[23,1]))\n",
        "print(paste('D : ',pairs_max_mat[23,2]))\n",
        "print(paste('c : ',min_for_max[23]))\n",
        "print(index_list_mat[23,1])\n",
        "print(index_list_mat[23,2])\n",
        "print(index_list_mat[22,2])\n",
        "print(min(close_list[c(seq(index_list_mat[22,2],index_list_mat[23,1]))]))\n",
        "print(paste('A : ',min(close_list[c(seq(index_list_mat[22,1],index_list_mat[23,1]))])))\n",
        "\n",
        "\n"
      ],
      "execution_count": null,
      "outputs": []
    },
    {
      "cell_type": "code",
      "metadata": {
        "id": "ScAaBSZKdSE4"
      },
      "source": [
        "which(close==47.58)"
      ],
      "execution_count": null,
      "outputs": []
    },
    {
      "cell_type": "code",
      "metadata": {
        "id": "O2WMCCQRRUSf"
      },
      "source": [
        "install.packages('rpatrec')\n",
        "library(rpatrec)"
      ],
      "execution_count": null,
      "outputs": []
    },
    {
      "cell_type": "code",
      "metadata": {
        "id": "bfsI-PtNReG2"
      },
      "source": [
        "close_patrec<-data['Close']\n",
        "print(interpret(window = close_patrec[!is.na(close)], useriq=FALSE, hsiq=TRUE, btpiq=FALSE, rtpiq=FALSE, dtpiq=FALSE))\n"
      ],
      "execution_count": null,
      "outputs": []
    }
  ]
}