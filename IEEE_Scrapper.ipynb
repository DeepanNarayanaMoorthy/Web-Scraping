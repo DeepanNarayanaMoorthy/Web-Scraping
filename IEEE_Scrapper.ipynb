{
  "nbformat": 4,
  "nbformat_minor": 0,
  "metadata": {
    "colab": {
      "name": "IEEE Scrapper",
      "provenance": [],
      "toc_visible": true
    },
    "kernelspec": {
      "name": "python3",
      "display_name": "Python 3"
    },
    "language_info": {
      "name": "python"
    }
  },
  "cells": [
    {
      "cell_type": "code",
      "source": [
        "!pip install wget\n",
        "!pip install tqdm"
      ],
      "metadata": {
        "colab": {
          "base_uri": "https://localhost:8080/"
        },
        "id": "50dc5pbkzMr7",
        "outputId": "9331cdf3-ec59-4308-ca9b-e0a88cbc7867"
      },
      "execution_count": null,
      "outputs": [
        {
          "output_type": "stream",
          "name": "stdout",
          "text": [
            "Requirement already satisfied: wget in /usr/local/lib/python3.7/dist-packages (3.2)\n",
            "Requirement already satisfied: tqdm in /usr/local/lib/python3.7/dist-packages (4.62.3)\n"
          ]
        }
      ]
    },
    {
      "cell_type": "code",
      "source": [
        "from bs4 import BeautifulSoup\n",
        "from urllib.request import Request, urlopen\n",
        "from google.colab import files, drive\n",
        "import re\n",
        "import string\n",
        "import wget, os\n",
        "import pandas as pd\n",
        "from tqdm import tqdm\n",
        "import requests"
      ],
      "metadata": {
        "id": "Ethcg07kzNWD"
      },
      "execution_count": null,
      "outputs": []
    },
    {
      "cell_type": "code",
      "source": [
        "dictlist=[]\n",
        "for xx in range(1,5):\n",
        "    reqbase = \"https://ieeexplore.ieee.org/search/searchresult.jsp?queryText=image%20processing&highlight=true&returnType=SEARCH&matchPubs=true&openAccess=true&refinements=ContentType:Journals&returnFacets=ALL&pageNumber=\"+str(i)\n",
        "    print(reqbase)\n",
        "    html_page = urlopen(reqbase)\n",
        "    soup = BeautifulSoup(html_page, \"lxml\")\n",
        "    inputTag = soup.findAll(\"li\", attrs={\"class\" : \"booklink\"})\n",
        "    for i in inputTag:\n",
        "      try:\n",
        "        tempdict=dict()\n",
        "        title=i.find(\"span\", attrs={\"class\" : \"title\"})\n",
        "        title=title.contents[0]\n",
        "        tempdict[\"title\"]=title\n",
        "        subtitle=i.find(\"span\", attrs={\"class\" : \"subtitle\"})\n",
        "        subtitle=subtitle.contents[0]\n",
        "        tempdict[\"subtitle\"]=subtitle\n",
        "        extra=i.find(\"span\", attrs={\"class\" : \"extra\"})\n",
        "        extra=extra.contents[0]\n",
        "        tempdict[\"extra\"]=extra\n",
        "        linkk=i.find(\"a\", attrs={\"class\" : \"link\"})\n",
        "        linkk=linkk.get(\"href\")\n",
        "        tempdict[\"linkk\"]=linkk\n",
        "        dictlist.append(tempdict)\n",
        "      except:\n",
        "        pass"
      ],
      "metadata": {
        "id": "kYhLrSqRzEbD"
      },
      "execution_count": null,
      "outputs": []
    },
    {
      "cell_type": "code",
      "source": [
        "import time\n",
        "reqbase_str = \"https://ieeexplore.ieee.org/search/searchresult.jsp?queryText=image%20processing&highlight=true&returnType=SEARCH&matchPubs=true&openAccess=true&refinements=ContentType:Journals&returnFacets=ALL&pageNumber=\"\n",
        "urllist=[]\n",
        "for i in range(1,5):\n",
        "  req=reqbase_str+str(i)\n",
        "  print(req)\n",
        "  html_page = urlopen(req)\n",
        "  soup = BeautifulSoup(html_page, \"lxml\")\n",
        "  asd=soup.findAll('a')\n",
        "  time.sleep(3)\n",
        "  for link in soup.findAll('a'):\n",
        "      urllist.append(str(link.get('href')))\n"
      ],
      "metadata": {
        "colab": {
          "base_uri": "https://localhost:8080/"
        },
        "id": "fZXhaVQT8Dwj",
        "outputId": "52662c9b-9d8c-4631-9f8e-cf070a922af4"
      },
      "execution_count": null,
      "outputs": [
        {
          "output_type": "stream",
          "name": "stdout",
          "text": [
            "https://ieeexplore.ieee.org/search/searchresult.jsp?queryText=image%20processing&highlight=true&returnType=SEARCH&matchPubs=true&openAccess=true&refinements=ContentType:Journals&returnFacets=ALL&pageNumber=1\n",
            "https://ieeexplore.ieee.org/search/searchresult.jsp?queryText=image%20processing&highlight=true&returnType=SEARCH&matchPubs=true&openAccess=true&refinements=ContentType:Journals&returnFacets=ALL&pageNumber=2\n",
            "https://ieeexplore.ieee.org/search/searchresult.jsp?queryText=image%20processing&highlight=true&returnType=SEARCH&matchPubs=true&openAccess=true&refinements=ContentType:Journals&returnFacets=ALL&pageNumber=3\n",
            "https://ieeexplore.ieee.org/search/searchresult.jsp?queryText=image%20processing&highlight=true&returnType=SEARCH&matchPubs=true&openAccess=true&refinements=ContentType:Journals&returnFacets=ALL&pageNumber=4\n"
          ]
        }
      ]
    },
    {
      "cell_type": "code",
      "source": [
        "urllist=[i for i in urllist if \"https://ieeexplore.ieee.org/stamp/stamp.jsp?tp=&arnumber=\" in i]"
      ],
      "metadata": {
        "id": "Z33Icaam8oFv"
      },
      "execution_count": null,
      "outputs": []
    },
    {
      "cell_type": "code",
      "source": [
        "\n",
        "\n",
        "len(urllist)"
      ],
      "metadata": {
        "id": "biJSdTRC0_Ez",
        "colab": {
          "base_uri": "https://localhost:8080/"
        },
        "outputId": "40c0a893-d380-44c1-a2df-719018751be5"
      },
      "execution_count": null,
      "outputs": [
        {
          "output_type": "execute_result",
          "data": {
            "text/plain": [
              "76"
            ]
          },
          "metadata": {},
          "execution_count": 19
        }
      ]
    },
    {
      "cell_type": "code",
      "source": [
        "asd=pd.DataFrame(dictlist)"
      ],
      "metadata": {
        "id": "VQPdB-LO1EvW"
      },
      "execution_count": null,
      "outputs": []
    },
    {
      "cell_type": "code",
      "source": [
        "asd"
      ],
      "metadata": {
        "id": "GbY--xfp2yeP"
      },
      "execution_count": null,
      "outputs": []
    },
    {
      "cell_type": "code",
      "source": [
        "\n",
        "# book_url = \n",
        "# r = requests.get(book_url) # create HTTP response object\n",
        "# with open(\"python_logo.png\",'wb') as f:\n",
        "# \tf.write(r.content)"
      ],
      "metadata": {
        "id": "yNx0lCg52zU9"
      },
      "execution_count": null,
      "outputs": []
    },
    {
      "cell_type": "code",
      "source": [
        "urllist"
      ],
      "metadata": {
        "id": "XHT1XlMy_RKh",
        "outputId": "2651b218-362a-4108-f88d-9909b2e2acfc",
        "colab": {
          "base_uri": "https://localhost:8080/"
        }
      },
      "execution_count": null,
      "outputs": [
        {
          "output_type": "execute_result",
          "data": {
            "text/plain": [
              "['#',\n",
              " '',\n",
              " 'https://www.ieee.org/profile/changeusrpwd/showChangeUsrPwdPage.html?refSite=http://ieeexplore.ieee.org&refSiteName=IEEE Xplore',\n",
              " 'https://www.ieee.org/profile/address/getAddrInfoPage.html?refSite=http://ieeexplore.ieee.org&refSiteName=IEEE Xplore',\n",
              " 'https://www.ieee.org/profile/payment/showPaymentHome.html?refSite=http://ieeexplore.ieee.org&refSiteName=IEEE Xplore',\n",
              " 'https://www.ieee.org/profile/vieworder/showOrderHistory.html?refSite=http://ieeexplore.ieee.org&refSiteName=IEEE Xplore',\n",
              " '/articleSale/purchaseHistory.jsp',\n",
              " 'https://www.ieee.org/ieee-privacyportal/app/ibp?refSite=http://ieeexplore.ieee.org&refSiteName=IEEE Xplore',\n",
              " 'https://www.ieee.org/profile/profedu/getProfEduInformation.html?refSite=http://ieeexplore.ieee.org&refSiteName=IEEE Xplore',\n",
              " 'https://www.ieee.org/profile/tips/getTipsInfo.html?refSite=http://ieeexplore.ieee.org&refSiteName=IEEE Xplore',\n",
              " '/xpl/contact',\n",
              " '/Xplorehelp/about-ieee-xplore.html',\n",
              " '/xpl/contact',\n",
              " '/Xplorehelp/Help_start.html',\n",
              " '/Xplorehelp/accessibility-statement.html',\n",
              " '/Xplorehelp/Help_Terms_of_Use.html',\n",
              " 'http://www.ieee.org/web/aboutus/whatis/policies/p9-26.html',\n",
              " '/xpl/sitemap.jsp',\n",
              " 'http://www.ieee.org/about/help/security_privacy.html',\n",
              " '#',\n",
              " '',\n",
              " 'https://www.ieee.org/profile/changeusrpwd/showChangeUsrPwdPage.html?refSite=http://ieeexplore.ieee.org&refSiteName=IEEE Xplore',\n",
              " 'https://www.ieee.org/profile/address/getAddrInfoPage.html?refSite=http://ieeexplore.ieee.org&refSiteName=IEEE Xplore',\n",
              " 'https://www.ieee.org/profile/payment/showPaymentHome.html?refSite=http://ieeexplore.ieee.org&refSiteName=IEEE Xplore',\n",
              " 'https://www.ieee.org/profile/vieworder/showOrderHistory.html?refSite=http://ieeexplore.ieee.org&refSiteName=IEEE Xplore',\n",
              " '/articleSale/purchaseHistory.jsp',\n",
              " 'https://www.ieee.org/ieee-privacyportal/app/ibp?refSite=http://ieeexplore.ieee.org&refSiteName=IEEE Xplore',\n",
              " 'https://www.ieee.org/profile/profedu/getProfEduInformation.html?refSite=http://ieeexplore.ieee.org&refSiteName=IEEE Xplore',\n",
              " 'https://www.ieee.org/profile/tips/getTipsInfo.html?refSite=http://ieeexplore.ieee.org&refSiteName=IEEE Xplore',\n",
              " '/xpl/contact',\n",
              " '/Xplorehelp/about-ieee-xplore.html',\n",
              " '/xpl/contact',\n",
              " '/Xplorehelp/Help_start.html',\n",
              " '/Xplorehelp/accessibility-statement.html',\n",
              " '/Xplorehelp/Help_Terms_of_Use.html',\n",
              " 'http://www.ieee.org/web/aboutus/whatis/policies/p9-26.html',\n",
              " '/xpl/sitemap.jsp',\n",
              " 'http://www.ieee.org/about/help/security_privacy.html',\n",
              " '#',\n",
              " '',\n",
              " 'https://www.ieee.org/profile/changeusrpwd/showChangeUsrPwdPage.html?refSite=http://ieeexplore.ieee.org&refSiteName=IEEE Xplore',\n",
              " 'https://www.ieee.org/profile/address/getAddrInfoPage.html?refSite=http://ieeexplore.ieee.org&refSiteName=IEEE Xplore',\n",
              " 'https://www.ieee.org/profile/payment/showPaymentHome.html?refSite=http://ieeexplore.ieee.org&refSiteName=IEEE Xplore',\n",
              " 'https://www.ieee.org/profile/vieworder/showOrderHistory.html?refSite=http://ieeexplore.ieee.org&refSiteName=IEEE Xplore',\n",
              " '/articleSale/purchaseHistory.jsp',\n",
              " 'https://www.ieee.org/ieee-privacyportal/app/ibp?refSite=http://ieeexplore.ieee.org&refSiteName=IEEE Xplore',\n",
              " 'https://www.ieee.org/profile/profedu/getProfEduInformation.html?refSite=http://ieeexplore.ieee.org&refSiteName=IEEE Xplore',\n",
              " 'https://www.ieee.org/profile/tips/getTipsInfo.html?refSite=http://ieeexplore.ieee.org&refSiteName=IEEE Xplore',\n",
              " '/xpl/contact',\n",
              " '/Xplorehelp/about-ieee-xplore.html',\n",
              " '/xpl/contact',\n",
              " '/Xplorehelp/Help_start.html',\n",
              " '/Xplorehelp/accessibility-statement.html',\n",
              " '/Xplorehelp/Help_Terms_of_Use.html',\n",
              " 'http://www.ieee.org/web/aboutus/whatis/policies/p9-26.html',\n",
              " '/xpl/sitemap.jsp',\n",
              " 'http://www.ieee.org/about/help/security_privacy.html',\n",
              " '#',\n",
              " '',\n",
              " 'https://www.ieee.org/profile/changeusrpwd/showChangeUsrPwdPage.html?refSite=http://ieeexplore.ieee.org&refSiteName=IEEE Xplore',\n",
              " 'https://www.ieee.org/profile/address/getAddrInfoPage.html?refSite=http://ieeexplore.ieee.org&refSiteName=IEEE Xplore',\n",
              " 'https://www.ieee.org/profile/payment/showPaymentHome.html?refSite=http://ieeexplore.ieee.org&refSiteName=IEEE Xplore',\n",
              " 'https://www.ieee.org/profile/vieworder/showOrderHistory.html?refSite=http://ieeexplore.ieee.org&refSiteName=IEEE Xplore',\n",
              " '/articleSale/purchaseHistory.jsp',\n",
              " 'https://www.ieee.org/ieee-privacyportal/app/ibp?refSite=http://ieeexplore.ieee.org&refSiteName=IEEE Xplore',\n",
              " 'https://www.ieee.org/profile/profedu/getProfEduInformation.html?refSite=http://ieeexplore.ieee.org&refSiteName=IEEE Xplore',\n",
              " 'https://www.ieee.org/profile/tips/getTipsInfo.html?refSite=http://ieeexplore.ieee.org&refSiteName=IEEE Xplore',\n",
              " '/xpl/contact',\n",
              " '/Xplorehelp/about-ieee-xplore.html',\n",
              " '/xpl/contact',\n",
              " '/Xplorehelp/Help_start.html',\n",
              " '/Xplorehelp/accessibility-statement.html',\n",
              " '/Xplorehelp/Help_Terms_of_Use.html',\n",
              " 'http://www.ieee.org/web/aboutus/whatis/policies/p9-26.html',\n",
              " '/xpl/sitemap.jsp',\n",
              " 'http://www.ieee.org/about/help/security_privacy.html']"
            ]
          },
          "metadata": {},
          "execution_count": 20
        }
      ]
    },
    {
      "cell_type": "code",
      "source": [
        ""
      ],
      "metadata": {
        "id": "mH2136fI_Rh0"
      },
      "execution_count": null,
      "outputs": []
    }
  ]
}